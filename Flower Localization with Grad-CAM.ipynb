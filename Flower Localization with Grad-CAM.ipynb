{
 "cells": [
  {
   "cell_type": "markdown",
   "id": "a6f98043",
   "metadata": {},
   "source": [
    "# Flower Feature Localization with Grad-CAM"
   ]
  },
  {
   "cell_type": "code",
   "execution_count": 1,
   "id": "4205277f",
   "metadata": {},
   "outputs": [],
   "source": [
    "import os\n",
    "import numpy as np\n",
    "import pandas as pd\n",
    "import matplotlib.pyplot as plt\n",
    "import matplotlib.image as mpimg\n",
    "import seaborn as sns\n",
    "import cv2\n",
    "from sklearn.model_selection import train_test_split\n",
    "import random\n",
    "from random import shuffle \n",
    "import collections\n",
    "import io\n",
    "import math\n",
    "\n",
    "import warnings\n",
    "warnings.filterwarnings(\"ignore\")\n",
    "\n",
    "import tensorflow as tf\n",
    "from tensorflow import keras "
   ]
  },
  {
   "cell_type": "code",
   "execution_count": 2,
   "id": "90e9157a",
   "metadata": {},
   "outputs": [],
   "source": [
    "from keras.applications.mobilenet import MobileNet\n",
    "from keras.applications.mobilenet_v2 import MobileNetV2\n",
    "from keras.applications.resnet import ResNet50\n",
    "from keras.applications.inception_v3 import InceptionV3\n",
    "\n",
    "from keras.models import Sequential, Model\n",
    "from keras.callbacks import EarlyStopping\n",
    "from keras.layers import Dropout, Input, Flatten, Dense, BatchNormalization\n",
    "from keras.preprocessing import image\n",
    "from keras.preprocessing.image import ImageDataGenerator\n",
    "from keras.callbacks import EarlyStopping, ReduceLROnPlateau, ModelCheckpoint\n",
    "from tensorflow.keras.utils import to_categorical"
   ]
  },
  {
   "cell_type": "markdown",
   "id": "f0ffe377",
   "metadata": {},
   "source": [
    "## Data Preparation"
   ]
  },
  {
   "cell_type": "code",
   "execution_count": 3,
   "id": "971031e2",
   "metadata": {},
   "outputs": [],
   "source": [
    "FLOWERS_DIR ='dataset/Annotated-FlowerData-30'\n",
    "# FLOWERS_DIR ='/content/drive/Shareddrives/Visual Information Processing/FlowerData-30'"
   ]
  },
  {
   "cell_type": "code",
   "execution_count": 4,
   "id": "d2837ed7",
   "metadata": {},
   "outputs": [],
   "source": [
    "H, W = 224, 224\n",
    "BATCH_SIZE = 64\n",
    "EPOCHS = 100\n",
    "\n",
    "TRAIN_FRACTION = 80\n",
    "RANDOM_SEED = 2018"
   ]
  },
  {
   "cell_type": "code",
   "execution_count": 5,
   "id": "045ca1a7",
   "metadata": {},
   "outputs": [
    {
     "name": "stdout",
     "output_type": "stream",
     "text": [
      "Found 1982 images belonging to 30 classes.\n",
      "Found 491 images belonging to 30 classes.\n"
     ]
    }
   ],
   "source": [
    "train_datagen = ImageDataGenerator(\n",
    "    rescale=1./255,\n",
    "    shear_range=0.1,\n",
    "    zoom_range=0.1,\n",
    "    width_shift_range=0.1,\n",
    "    height_shift_range=0.1,\n",
    "    horizontal_flip=True,\n",
    "    vertical_flip=True,\n",
    "    validation_split=0.2\n",
    ")\n",
    "\n",
    "test_datagen = ImageDataGenerator(\n",
    "    rescale=1./255,\n",
    "    validation_split=0.2\n",
    ")\n",
    "\n",
    "train_generator = train_datagen.flow_from_directory(\n",
    "    FLOWERS_DIR,\n",
    "    target_size=(H, W),\n",
    "    batch_size=BATCH_SIZE,\n",
    "    class_mode='categorical',\n",
    "    subset='training',\n",
    "    seed=RANDOM_SEED\n",
    ")\n",
    "\n",
    "validation_generator = test_datagen.flow_from_directory(\n",
    "    FLOWERS_DIR,\n",
    "    target_size=(H, W),\n",
    "    batch_size=BATCH_SIZE,\n",
    "    class_mode='categorical',\n",
    "    subset='validation',\n",
    "    seed=RANDOM_SEED\n",
    ")"
   ]
  },
  {
   "cell_type": "code",
   "execution_count": 6,
   "id": "69389094",
   "metadata": {},
   "outputs": [
    {
     "data": {
      "text/plain": [
       "((64, 224, 224, 3), (64, 30))"
      ]
     },
     "execution_count": 6,
     "metadata": {},
     "output_type": "execute_result"
    }
   ],
   "source": [
    "for image_batch, label_batch in train_generator:\n",
    "    break\n",
    "image_batch.shape, label_batch.shape"
   ]
  },
  {
   "cell_type": "code",
   "execution_count": 7,
   "id": "0805e6ee",
   "metadata": {},
   "outputs": [
    {
     "name": "stdout",
     "output_type": "stream",
     "text": [
      "{'Artichoke': 0, 'Azalea': 1, 'Bearded Iris': 2, 'Bird of Paradise': 3, 'Bluebell': 4, 'Bromelia': 5, 'Buttecup': 6, 'Camellia': 7, 'Canna Lily': 8, 'Colts_Foot': 9, 'Columbine': 10, 'Cowslip': 11, 'Crocus': 12, 'Daffodil': 13, 'Daisy': 14, 'Dandelion': 15, 'Fritillary': 16, 'LilyValley': 17, 'Mexican Petunia': 18, 'Pansy': 19, 'Peruvian Lily': 20, 'Poinsettia': 21, 'Purple Coneflower': 22, 'Snapdragon': 23, 'Snowdrop': 24, 'Sunflower': 25, 'Sweet William': 26, 'Tigerlily': 27, 'Tulip': 28, 'Windflower': 29}\n"
     ]
    }
   ],
   "source": [
    "print(train_generator.class_indices)"
   ]
  },
  {
   "cell_type": "code",
   "execution_count": 8,
   "id": "aeeb1900",
   "metadata": {},
   "outputs": [
    {
     "name": "stdout",
     "output_type": "stream",
     "text": [
      "done!\n"
     ]
    }
   ],
   "source": [
    "# saving labels to txt file\n",
    "labels = '\\n'.join(sorted(train_generator.class_indices.keys()))\n",
    "\n",
    "with open('labels.txt', 'w') as f:\n",
    "    f.write(labels)\n",
    "    \n",
    "print('done!')"
   ]
  },
  {
   "cell_type": "code",
   "execution_count": 9,
   "id": "df203c45",
   "metadata": {},
   "outputs": [],
   "source": [
    "save_path = 'labels.txt'\n",
    "label = np.array(open(save_path).read().splitlines())"
   ]
  },
  {
   "attachments": {},
   "cell_type": "markdown",
   "id": "81cc297d",
   "metadata": {},
   "source": [
    "## MobileNetV2, ResNet50 and InceptionV3\n",
    "\n",
    "We trained 3 types of convolutional neural networks, which are MobileNetV2, ResNet50 and InceptionV3. The training process for all three networks are available in separate Jupyter notebooks.\n",
    "\n",
    "MobileNetV2: `FL-MobileNetV2.ipynb`  \n",
    "ResNet50: `FL-ResNet50.ipynb`  \n",
    "InceptionV3: `FL-InceptionV3.ipynb`"
   ]
  },
  {
   "cell_type": "markdown",
   "id": "a4ebfe66",
   "metadata": {},
   "source": [
    "### Loading the Pre-Trained Models\n",
    "\n",
    "We have a total of 3 CNN models - MobileNetV2, ResNet50 and InceptionV3"
   ]
  },
  {
   "cell_type": "code",
   "execution_count": 10,
   "id": "27b862e8",
   "metadata": {},
   "outputs": [],
   "source": [
    "from keras import backend as K\n",
    "\n",
    "def recall(y_true, y_pred):\n",
    "    true_positives = K.sum(K.round(K.clip(y_true * y_pred, 0, 1)))\n",
    "    possible_positives = K.sum(K.round(K.clip(y_true, 0, 1)))\n",
    "    recall = true_positives / (possible_positives + K.epsilon())\n",
    "    return recall\n",
    "\n",
    "def precision(y_true, y_pred):\n",
    "    true_positives = K.sum(K.round(K.clip(y_true * y_pred, 0, 1)))\n",
    "    predicted_positives = K.sum(K.round(K.clip(y_pred, 0, 1)))\n",
    "    precision = true_positives / (predicted_positives + K.epsilon())\n",
    "    return precision"
   ]
  },
  {
   "cell_type": "code",
   "execution_count": 12,
   "id": "a459af18",
   "metadata": {},
   "outputs": [],
   "source": [
    "mobilenet = tf.keras.models.load_model(\n",
    "    'model/MobileNetV2.h5', \n",
    "    custom_objects={\n",
    "        \"precision_m\": precision, \n",
    "        \"recall_m\": recall\n",
    "    }\n",
    ")\n",
    "\n",
    "resnet = tf.keras.models.load_model(\n",
    "    'model/ResNet50.h5', \n",
    "    custom_objects={\n",
    "        \"precision_m\": precision, \n",
    "        \"recall_m\": recall\n",
    "    }\n",
    ")\n",
    "\n",
    "inception = tf.keras.models.load_model(\n",
    "    'model/InceptionV3.h5', \n",
    "    custom_objects={\n",
    "        \"precision_m\": precision, \n",
    "        \"recall_m\": recall\n",
    "    }\n",
    ")"
   ]
  },
  {
   "cell_type": "markdown",
   "id": "baf72eee",
   "metadata": {},
   "source": [
    "### Interpreting the Results"
   ]
  },
  {
   "cell_type": "code",
   "execution_count": 19,
   "id": "61c0cf4c",
   "metadata": {},
   "outputs": [],
   "source": [
    "# Function to load image\n",
    "def load_image(img_path, show=False, title=None):\n",
    "\n",
    "    img = image.load_img(img_path, target_size=(H, W))\n",
    "    img_tensor = image.img_to_array(img) # (height, width, channels)\n",
    "            \n",
    "    # (1, height, width, channels), add a dimension because the model expects this shape: (batch_size, height, width, channels)dat\n",
    "    img_tensor = np.expand_dims(img_tensor, axis=0) \n",
    "    \n",
    "    img_tensor /= 255. # imshow expects values in the range [0, 1]\n",
    "    plt.title(title)\n",
    "    \n",
    "    if show:\n",
    "        plt.imshow(img_tensor[0])                           \n",
    "        plt.axis('off')\n",
    "        plt.show()\n",
    "\n",
    "    return img_tensor\n",
    "\n",
    "# Function to show top x predicitons of the model\n",
    "def pred_result(pred, show_top=3):\n",
    "    \n",
    "    top_results = np.argsort(pred[0])[-show_top:][::-1]\n",
    "    prediction = []\n",
    "    \n",
    "    for i in top_results:\n",
    "        prediction.append([label[i], \"{:.5f}\".format(pred[0][i])])\n",
    "    \n",
    "    df = pd.DataFrame(prediction, columns = ['flower', 'probability'])\n",
    "    display(df)"
   ]
  },
  {
   "cell_type": "code",
   "execution_count": 24,
   "id": "c60e6a6a",
   "metadata": {},
   "outputs": [
    {
     "data": {
      "image/png": "[encoded data removed]",
      "text/plain": [
       "<Figure size 432x288 with 1 Axes>"
      ]
     },
     "metadata": {
      "needs_background": "light"
     },
     "output_type": "display_data"
    },
    {
     "name": "stdout",
     "output_type": "stream",
     "text": [
      "\n",
      "===== MobileNetV2 =====\n"
     ]
    },
    {
     "data": {
      "text/html": [
       "<div>\n",
       "<style scoped>\n",
       "    .dataframe tbody tr th:only-of-type {\n",
       "        vertical-align: middle;\n",
       "    }\n",
       "\n",
       "    .dataframe tbody tr th {\n",
       "        vertical-align: top;\n",
       "    }\n",
       "\n",
       "    .dataframe thead th {\n",
       "        text-align: right;\n",
       "    }\n",
       "</style>\n",
       "<table border=\"1\" class=\"dataframe\">\n",
       "  <thead>\n",
       "    <tr style=\"text-align: right;\">\n",
       "      <th></th>\n",
       "      <th>flower</th>\n",
       "      <th>probability</th>\n",
       "    </tr>\n",
       "  </thead>\n",
       "  <tbody>\n",
       "    <tr>\n",
       "      <th>0</th>\n",
       "      <td>Snowdrop</td>\n",
       "      <td>0.99999</td>\n",
       "    </tr>\n",
       "    <tr>\n",
       "      <th>1</th>\n",
       "      <td>Fritillary</td>\n",
       "      <td>0.00001</td>\n",
       "    </tr>\n",
       "    <tr>\n",
       "      <th>2</th>\n",
       "      <td>LilyValley</td>\n",
       "      <td>0.00000</td>\n",
       "    </tr>\n",
       "  </tbody>\n",
       "</table>\n",
       "</div>"
      ],
      "text/plain": [
       "       flower probability\n",
       "0    Snowdrop     0.99999\n",
       "1  Fritillary     0.00001\n",
       "2  LilyValley     0.00000"
      ]
     },
     "metadata": {},
     "output_type": "display_data"
    },
    {
     "name": "stdout",
     "output_type": "stream",
     "text": [
      "\n",
      "====== ResNet50 =======\n"
     ]
    },
    {
     "data": {
      "text/html": [
       "<div>\n",
       "<style scoped>\n",
       "    .dataframe tbody tr th:only-of-type {\n",
       "        vertical-align: middle;\n",
       "    }\n",
       "\n",
       "    .dataframe tbody tr th {\n",
       "        vertical-align: top;\n",
       "    }\n",
       "\n",
       "    .dataframe thead th {\n",
       "        text-align: right;\n",
       "    }\n",
       "</style>\n",
       "<table border=\"1\" class=\"dataframe\">\n",
       "  <thead>\n",
       "    <tr style=\"text-align: right;\">\n",
       "      <th></th>\n",
       "      <th>flower</th>\n",
       "      <th>probability</th>\n",
       "    </tr>\n",
       "  </thead>\n",
       "  <tbody>\n",
       "    <tr>\n",
       "      <th>0</th>\n",
       "      <td>Buttecup</td>\n",
       "      <td>0.09333</td>\n",
       "    </tr>\n",
       "    <tr>\n",
       "      <th>1</th>\n",
       "      <td>Sunflower</td>\n",
       "      <td>0.08345</td>\n",
       "    </tr>\n",
       "    <tr>\n",
       "      <th>2</th>\n",
       "      <td>Bearded Iris</td>\n",
       "      <td>0.07374</td>\n",
       "    </tr>\n",
       "  </tbody>\n",
       "</table>\n",
       "</div>"
      ],
      "text/plain": [
       "         flower probability\n",
       "0      Buttecup     0.09333\n",
       "1     Sunflower     0.08345\n",
       "2  Bearded Iris     0.07374"
      ]
     },
     "metadata": {},
     "output_type": "display_data"
    },
    {
     "name": "stdout",
     "output_type": "stream",
     "text": [
      "\n",
      "===== InceptionV3 =====\n"
     ]
    },
    {
     "data": {
      "text/html": [
       "<div>\n",
       "<style scoped>\n",
       "    .dataframe tbody tr th:only-of-type {\n",
       "        vertical-align: middle;\n",
       "    }\n",
       "\n",
       "    .dataframe tbody tr th {\n",
       "        vertical-align: top;\n",
       "    }\n",
       "\n",
       "    .dataframe thead th {\n",
       "        text-align: right;\n",
       "    }\n",
       "</style>\n",
       "<table border=\"1\" class=\"dataframe\">\n",
       "  <thead>\n",
       "    <tr style=\"text-align: right;\">\n",
       "      <th></th>\n",
       "      <th>flower</th>\n",
       "      <th>probability</th>\n",
       "    </tr>\n",
       "  </thead>\n",
       "  <tbody>\n",
       "    <tr>\n",
       "      <th>0</th>\n",
       "      <td>Snowdrop</td>\n",
       "      <td>0.99745</td>\n",
       "    </tr>\n",
       "    <tr>\n",
       "      <th>1</th>\n",
       "      <td>Crocus</td>\n",
       "      <td>0.00093</td>\n",
       "    </tr>\n",
       "    <tr>\n",
       "      <th>2</th>\n",
       "      <td>Fritillary</td>\n",
       "      <td>0.00078</td>\n",
       "    </tr>\n",
       "  </tbody>\n",
       "</table>\n",
       "</div>"
      ],
      "text/plain": [
       "       flower probability\n",
       "0    Snowdrop     0.99745\n",
       "1      Crocus     0.00093\n",
       "2  Fritillary     0.00078"
      ]
     },
     "metadata": {},
     "output_type": "display_data"
    }
   ],
   "source": [
    "# load a random image from our dataset\n",
    "random_flower = random.choice(os.listdir(FLOWERS_DIR))\n",
    "random_image = random.choice(os.listdir(FLOWERS_DIR+'/'+random_flower))\n",
    "image_path = FLOWERS_DIR+'/'+random_flower+'/'+random_image\n",
    "\n",
    "title = f'{random_flower} ({random_image})'\n",
    "flower_image = load_image(image_path, show=True, title=title)\n",
    "#print('img:', random_image)\n",
    "\n",
    "\n",
    "print('\\n===== MobileNetV2 =====')\n",
    "pred_m = mobilenet.predict(flower_image)\n",
    "pred_result(pred_m, show_top=3)\n",
    "\n",
    "print('\\n====== ResNet50 =======')\n",
    "pred_r = resnet.predict(flower_image)\n",
    "pred_result(pred_r, show_top=3)\n",
    "\n",
    "print('\\n===== InceptionV3 =====')\n",
    "pred_i = inception.predict(flower_image)\n",
    "pred_result(pred_i, show_top=3)"
   ]
  },
  {
   "cell_type": "markdown",
   "id": "1b4daf27",
   "metadata": {},
   "source": [
    "## Grad-CAM"
   ]
  },
  {
   "cell_type": "code",
   "execution_count": null,
   "id": "0ce763a7",
   "metadata": {},
   "outputs": [],
   "source": [
    "def GradCam(model, img_array, layer_name, eps=1e-8):\n",
    "    \n",
    "    '''\n",
    "    Creates a grad-cam heatmap given a model and a layer name contained with that model\n",
    "    \n",
    "\n",
    "    Args:\n",
    "      model: tf model\n",
    "      img_array: (img_width x img_width) numpy array\n",
    "      layer_name: str\n",
    "\n",
    "\n",
    "    Returns \n",
    "      uint8 numpy array with shape (img_height, img_width)\n",
    "\n",
    "    '''\n",
    "\n",
    "    gradModel = Model(\n",
    "            inputs=[model.inputs],\n",
    "            outputs=[model.get_layer(layer_name).output,\n",
    "                model.output])\n",
    "    \n",
    "    with tf.GradientTape() as tape:\n",
    "        # cast the image tensor to a float-32 data type, pass the\n",
    "        # image through the gradient model, and grab the loss\n",
    "        # associated with the specific class index\n",
    "        inputs = tf.cast(img_array, tf.float32)\n",
    "        (convOutputs, predictions) = gradModel(inputs)\n",
    "        loss = predictions[:, 0]\n",
    "        # use automatic differentiation to compute the gradients\n",
    "    grads = tape.gradient(loss, convOutputs)\n",
    "    \n",
    "    # compute the guided gradients\n",
    "    castConvOutputs = tf.cast(convOutputs > 0, \"float32\")\n",
    "    castGrads = tf.cast(grads > 0, \"float32\")\n",
    "    guidedGrads = castConvOutputs * castGrads * grads\n",
    "    \n",
    "    # the convolution and guided gradients have a batch dimension\n",
    "    # (which we don't need) so let's grab the volume itself and\n",
    "    # discard the batch\n",
    "    convOutputs = convOutputs[0]\n",
    "    guidedGrads = guidedGrads[0]\n",
    "    \n",
    "    # compute the average of the gradient values, and using them\n",
    "    # as weights, compute the ponderation of the filters with\n",
    "    # respect to the weights\n",
    "    weights = tf.reduce_mean(guidedGrads, axis=(0, 1))\n",
    "    cam = tf.reduce_sum(tf.multiply(weights, convOutputs), axis=-1)\n",
    "  \n",
    "    # grab the spatial dimensions of the input image and resize\n",
    "    # the output class activation map to match the input image\n",
    "    # dimensions\n",
    "    (w, h) = (img_array.shape[2], img_array.shape[1])\n",
    "    heatmap = cv2.resize(cam.numpy(), (w, h))\n",
    "        \n",
    "    # normalize the heatmap such that all values lie in the range\n",
    "    # [0, 1], scale the resulting values to the range [0, 255],\n",
    "    # and then convert to an unsigned 8-bit integer\n",
    "    numer = heatmap - np.min(heatmap)\n",
    "    denom = (heatmap.max() - heatmap.min()) + eps\n",
    "    heatmap = numer / denom\n",
    "    \n",
    "    return heatmap\n",
    "\n",
    "\n",
    "def sigmoid(x, a, b, c):\n",
    "    return c / (1 + np.exp(-a * (x-b)))\n",
    "\n",
    "def superimpose(img_bgr, cam, thresh, emphasize=False):\n",
    "    \n",
    "    '''\n",
    "    Superimposes a grad-cam heatmap onto an image for model interpretation and visualization.\n",
    "    \n",
    "\n",
    "    Args:\n",
    "      image: (img_width x img_height x 3) numpy array\n",
    "      grad-cam heatmap: (img_width x img_width) numpy array\n",
    "      threshold: float\n",
    "      emphasize: boolean\n",
    "\n",
    "    Returns \n",
    "      uint8 numpy array with shape (img_height, img_width, 3)\n",
    "\n",
    "    '''\n",
    "    \n",
    "    heatmap = cv2.resize(cam, (img_bgr.shape[1], img_bgr.shape[0]))\n",
    "    if emphasize:\n",
    "        heatmap = sigmoid(heatmap, 50, thresh, 1)\n",
    "    heatmap = np.uint8(255 * heatmap)\n",
    "    heatmap = cv2.applyColorMap(heatmap, cv2.COLORMAP_JET)\n",
    "    \n",
    "    hif = .8\n",
    "    superimposed_img = heatmap * hif + img_bgr\n",
    "    superimposed_img = np.minimum(superimposed_img, 255.0).astype(np.uint8)  # scale 0 to 255  \n",
    "    superimposed_img_rgb = cv2.cvtColor(superimposed_img, cv2.COLOR_BGR2RGB)\n",
    "    \n",
    "    return superimposed_img_rgb"
   ]
  },
  {
   "cell_type": "code",
   "execution_count": null,
   "id": "f8212826",
   "metadata": {},
   "outputs": [],
   "source": []
  },
  {
   "cell_type": "code",
   "execution_count": null,
   "id": "be9a0e85",
   "metadata": {},
   "outputs": [],
   "source": []
  },
  {
   "cell_type": "code",
   "execution_count": null,
   "id": "e215a1a9",
   "metadata": {},
   "outputs": [],
   "source": []
  }
 ],
 "metadata": {
  "kernelspec": {
   "display_name": "Anaconda (base)",
   "language": "python",
   "name": "anaconda-base"
  },
  "language_info": {
   "codemirror_mode": {
    "name": "ipython",
    "version": 3
   },
   "file_extension": ".py",
   "mimetype": "text/x-python",
   "name": "python",
   "nbconvert_exporter": "python",
   "pygments_lexer": "ipython3",
   "version": "3.8.8"
  }
 },
 "nbformat": 4,
 "nbformat_minor": 5
}
