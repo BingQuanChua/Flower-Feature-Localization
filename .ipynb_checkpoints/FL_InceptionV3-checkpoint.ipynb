{
 "cells": [
  {
   "cell_type": "markdown",
   "id": "5e6440a2",
   "metadata": {},
   "source": [
    "# InceptionV3\n",
    "\n",
    "InceptionV3 is a convolutional neural network designed to allow deeper networks while keeping the number of parameters small.\n",
    "\n",
    "This notebook will train the InceptionV3 model."
   ]
  },
  {
   "cell_type": "code",
   "execution_count": 1,
   "id": "38267a73",
   "metadata": {},
   "outputs": [],
   "source": [
    "import os\n",
    "import numpy as np\n",
    "import pandas as pd\n",
    "import matplotlib.pyplot as plt\n",
    "import matplotlib.image as mpimg\n",
    "import seaborn as sns\n",
    "import cv2\n",
    "from sklearn.model_selection import train_test_split\n",
    "import random\n",
    "from random import shuffle \n",
    "import collections\n",
    "import io\n",
    "import math\n",
    "\n",
    "import tensorflow as tf\n",
    "from tensorflow import keras \n",
    "\n",
    "import warnings\n",
    "warnings.filterwarnings(\"ignore\")"
   ]
  },
  {
   "cell_type": "code",
   "execution_count": 2,
   "id": "45c6db92",
   "metadata": {},
   "outputs": [],
   "source": [
    "from keras.applications.inception_v3 import InceptionV3\n",
    "from keras.models import Sequential\n",
    "from keras.callbacks import EarlyStopping\n",
    "from keras.layers import Dropout, Input, Flatten, Dense, BatchNormalization\n",
    "from keras.preprocessing.image import ImageDataGenerator\n",
    "from keras.callbacks import EarlyStopping, ReduceLROnPlateau, ModelCheckpoint\n",
    "from tensorflow.keras.utils import to_categorical"
   ]
  },
  {
   "cell_type": "code",
   "execution_count": 3,
   "id": "99924537",
   "metadata": {},
   "outputs": [],
   "source": [
    "# FLOWERS_DIR ='dataset/FlowerData-30'\n",
    "\n",
    "path = '/content/drive/Shareddrives/Visual Information Processing/'\n",
    "FLOWERS_DIR = path + 'FlowerData-30'\n",
    "\n",
    "from google.colab import drive\n",
    "drive.mount('/content/drive')"
   ]
  },
  {
   "cell_type": "code",
   "execution_count": 4,
   "id": "b7d5cf66",
   "metadata": {},
   "outputs": [],
   "source": [
    "H, W = 224, 224\n",
    "BATCH_SIZE = 64\n",
    "EPOCHS = 100\n",
    "\n",
    "TRAIN_FRACTION = 80\n",
    "RANDOM_SEED = 2018"
   ]
  },
  {
   "cell_type": "code",
   "execution_count": 5,
   "id": "5ba98291",
   "metadata": {},
   "outputs": [
    {
     "name": "stdout",
     "output_type": "stream",
     "text": [
      "Found 1982 images belonging to 30 classes.\n",
      "Found 491 images belonging to 30 classes.\n"
     ]
    }
   ],
   "source": [
    "train_datagen = ImageDataGenerator(\n",
    "    rescale=1./255,\n",
    "    shear_range=0.1,\n",
    "    zoom_range=0.1,\n",
    "    width_shift_range=0.1,\n",
    "    height_shift_range=0.1,\n",
    "    horizontal_flip=True,\n",
    "    vertical_flip=True,\n",
    "    validation_split=0.2\n",
    ")\n",
    "\n",
    "test_datagen = ImageDataGenerator(\n",
    "    rescale=1./255,\n",
    "    validation_split=0.2\n",
    ")\n",
    "\n",
    "train_generator = train_datagen.flow_from_directory(\n",
    "    FLOWERS_DIR,\n",
    "    target_size=(H, W),\n",
    "    batch_size=BATCH_SIZE,\n",
    "    class_mode='categorical',\n",
    "    subset='training',\n",
    "    seed=RANDOM_SEED\n",
    ")\n",
    "\n",
    "validation_generator = test_datagen.flow_from_directory(\n",
    "    FLOWERS_DIR,\n",
    "    target_size=(H, W),\n",
    "    batch_size=BATCH_SIZE,\n",
    "    class_mode='categorical',\n",
    "    subset='validation',\n",
    "    seed=RANDOM_SEED\n",
    ")"
   ]
  },
  {
   "cell_type": "markdown",
   "id": "a96378a3",
   "metadata": {},
   "source": [
    "## Building the Model \n",
    "\n",
    "We implemented transfer learning by loading a pretrained InceptionV3 (weights learned from the public ImageNet database). Several dense layer was added to the end of the model to make it classify our 30 flower classes."
   ]
  },
  {
   "cell_type": "code",
   "execution_count": null,
   "id": "428b1044",
   "metadata": {},
   "outputs": [],
   "source": [
    "inputs = tf.keras.Input(shape=(H, W, 3))\n",
    "\n",
    "# base model\n",
    "x = tf.keras.applications.InceptionV3(\n",
    "    input_shape = (H, W, 3),\n",
    "    weights = \"imagenet\",\n",
    "    include_top = False\n",
    ")\n",
    "\n",
    "for layer in x.layers:\n",
    "    layer.trainable = False\n",
    "    \n",
    "flat1 = GlobalAveragePooling2D()(x.layers[-1].output)\n",
    "flat2 = Dropout(0.2)(flat1)\n",
    "class1 = Dense(1024, activation='relu')(flat2)\n",
    "output = Dense(30, activation='softmax')(class1)\n",
    "model = Model(inputs=x.inputs, outputs=output)\n",
    "model.summary()"
   ]
  },
  {
   "cell_type": "code",
   "execution_count": 7,
   "id": "32c2f978",
   "metadata": {},
   "outputs": [],
   "source": [
    "model.compile(\n",
    "    optimizer='adam',\n",
    "    loss='categorical_crossentropy', \n",
    "    metrics=['accuracy']\n",
    ")"
   ]
  },
  {
   "cell_type": "code",
   "execution_count": 8,
   "id": "e79c89d0",
   "metadata": {},
   "outputs": [],
   "source": [
    "callbacks = [\n",
    "    EarlyStopping(patience=10, verbose=1),\n",
    "    ReduceLROnPlateau(factor=0.1, patience=3, min_lr=0.00001, verbose=1),\n",
    "    ModelCheckpoint(path+'InceptionV3_checkpoint.h5', verbose=1, save_best_only=True, save_weights_only=True)\n",
    "]"
   ]
  },
  {
   "cell_type": "code",
   "execution_count": 9,
   "id": "1e61d87d",
   "metadata": {
    "scrolled": false
   },
   "outputs": [
    {
     "name": "stderr",
     "output_type": "stream",
     "text": [
      "C:\\Users\\User\\anaconda3\\lib\\site-packages\\keras\\engine\\training.py:1972: UserWarning: `Model.fit_generator` is deprecated and will be removed in a future version. Please use `Model.fit`, which supports generators.\n",
      "  warnings.warn('`Model.fit_generator` is deprecated and '\n"
     ]
    },
    {
     "name": "stdout",
     "output_type": "stream",
     "text": [
      "Epoch 1/100\n",
      "30/30 [==============================] - 146s 5s/step - loss: 2.3020 - accuracy: 0.3461 - val_loss: 1.4413 - val_accuracy: 0.5866\n",
      "\n",
      "Epoch 00001: val_loss improved from inf to 1.44130, saving model to InceptionV3_model.h5\n",
      "Epoch 2/100\n",
      "30/30 [==============================] - 153s 5s/step - loss: 1.0533 - accuracy: 0.6821 - val_loss: 0.9536 - val_accuracy: 0.7108\n",
      "\n",
      "Epoch 00002: val_loss improved from 1.44130 to 0.95361, saving model to InceptionV3_model.h5\n",
      "Epoch 3/100\n",
      "30/30 [==============================] - 170s 6s/step - loss: 0.7853 - accuracy: 0.7487 - val_loss: 0.9441 - val_accuracy: 0.7067\n",
      "\n",
      "Epoch 00003: val_loss improved from 0.95361 to 0.94407, saving model to InceptionV3_model.h5\n",
      "Epoch 4/100\n",
      "30/30 [==============================] - 166s 5s/step - loss: 0.6315 - accuracy: 0.8032 - val_loss: 0.5793 - val_accuracy: 0.8208\n",
      "\n",
      "Epoch 00004: val_loss improved from 0.94407 to 0.57934, saving model to InceptionV3_model.h5\n",
      "Epoch 5/100\n",
      "30/30 [==============================] - 141s 5s/step - loss: 0.5165 - accuracy: 0.8411 - val_loss: 0.7165 - val_accuracy: 0.7821\n",
      "\n",
      "Epoch 00005: val_loss did not improve from 0.57934\n",
      "Epoch 6/100\n",
      "30/30 [==============================] - 129s 4s/step - loss: 0.4971 - accuracy: 0.8421 - val_loss: 0.6307 - val_accuracy: 0.7943\n",
      "\n",
      "Epoch 00006: val_loss did not improve from 0.57934\n",
      "Epoch 7/100\n",
      "30/30 [==============================] - 129s 4s/step - loss: 0.4454 - accuracy: 0.8587 - val_loss: 0.5814 - val_accuracy: 0.8187\n",
      "\n",
      "Epoch 00007: ReduceLROnPlateau reducing learning rate to 0.00010000000474974513.\n",
      "\n",
      "Epoch 00007: val_loss did not improve from 0.57934\n",
      "Epoch 8/100\n",
      "30/30 [==============================] - 132s 4s/step - loss: 0.2854 - accuracy: 0.9082 - val_loss: 0.4349 - val_accuracy: 0.8615\n",
      "\n",
      "Epoch 00008: val_loss improved from 0.57934 to 0.43491, saving model to InceptionV3_model.h5\n",
      "Epoch 9/100\n",
      "30/30 [==============================] - 133s 4s/step - loss: 0.2098 - accuracy: 0.9339 - val_loss: 0.4329 - val_accuracy: 0.8697\n",
      "\n",
      "Epoch 00009: val_loss improved from 0.43491 to 0.43291, saving model to InceptionV3_model.h5\n",
      "Epoch 10/100\n",
      "30/30 [==============================] - 125s 4s/step - loss: 0.2028 - accuracy: 0.9354 - val_loss: 0.4244 - val_accuracy: 0.8656\n",
      "\n",
      "Epoch 00010: val_loss improved from 0.43291 to 0.42438, saving model to InceptionV3_model.h5\n",
      "Epoch 11/100\n",
      "30/30 [==============================] - 152s 5s/step - loss: 0.2018 - accuracy: 0.9400 - val_loss: 0.4315 - val_accuracy: 0.8697\n",
      "\n",
      "Epoch 00011: val_loss did not improve from 0.42438\n",
      "Epoch 12/100\n",
      "30/30 [==============================] - 140s 5s/step - loss: 0.1737 - accuracy: 0.9430 - val_loss: 0.4323 - val_accuracy: 0.8737\n",
      "\n",
      "Epoch 00012: val_loss did not improve from 0.42438\n",
      "Epoch 13/100\n",
      "30/30 [==============================] - 128s 4s/step - loss: 0.1960 - accuracy: 0.9309 - val_loss: 0.4333 - val_accuracy: 0.8615\n",
      "\n",
      "Epoch 00013: ReduceLROnPlateau reducing learning rate to 1.0000000474974514e-05.\n",
      "\n",
      "Epoch 00013: val_loss did not improve from 0.42438\n",
      "Epoch 14/100\n",
      "30/30 [==============================] - 137s 4s/step - loss: 0.1801 - accuracy: 0.9450 - val_loss: 0.4261 - val_accuracy: 0.8595\n",
      "\n",
      "Epoch 00014: val_loss did not improve from 0.42438\n",
      "Epoch 15/100\n",
      "30/30 [==============================] - 154s 5s/step - loss: 0.1757 - accuracy: 0.9445 - val_loss: 0.4207 - val_accuracy: 0.8656\n",
      "\n",
      "Epoch 00015: val_loss improved from 0.42438 to 0.42073, saving model to InceptionV3_model.h5\n",
      "Epoch 16/100\n",
      "30/30 [==============================] - 158s 5s/step - loss: 0.1641 - accuracy: 0.9516 - val_loss: 0.4153 - val_accuracy: 0.8737\n",
      "\n",
      "Epoch 00016: val_loss improved from 0.42073 to 0.41529, saving model to InceptionV3_model.h5\n",
      "Epoch 17/100\n",
      "30/30 [==============================] - 149s 5s/step - loss: 0.1613 - accuracy: 0.9536 - val_loss: 0.4159 - val_accuracy: 0.8717\n",
      "\n",
      "Epoch 00017: val_loss did not improve from 0.41529\n",
      "Epoch 18/100\n",
      "30/30 [==============================] - 155s 5s/step - loss: 0.1613 - accuracy: 0.9511 - val_loss: 0.4169 - val_accuracy: 0.8737\n",
      "\n",
      "Epoch 00018: val_loss did not improve from 0.41529\n",
      "Epoch 19/100\n",
      "30/30 [==============================] - 145s 5s/step - loss: 0.1660 - accuracy: 0.9475 - val_loss: 0.4176 - val_accuracy: 0.8697\n",
      "\n",
      "Epoch 00019: ReduceLROnPlateau reducing learning rate to 1e-05.\n",
      "\n",
      "Epoch 00019: val_loss did not improve from 0.41529\n",
      "Epoch 20/100\n",
      "30/30 [==============================] - 136s 4s/step - loss: 0.1531 - accuracy: 0.9506 - val_loss: 0.4157 - val_accuracy: 0.8717\n",
      "\n",
      "Epoch 00020: val_loss did not improve from 0.41529\n",
      "Epoch 21/100\n",
      "30/30 [==============================] - 137s 4s/step - loss: 0.1521 - accuracy: 0.9561 - val_loss: 0.4154 - val_accuracy: 0.8697\n",
      "\n",
      "Epoch 00021: val_loss did not improve from 0.41529\n",
      "Epoch 22/100\n",
      "30/30 [==============================] - 136s 4s/step - loss: 0.1661 - accuracy: 0.9485 - val_loss: 0.4139 - val_accuracy: 0.8758\n",
      "\n",
      "Epoch 00022: val_loss improved from 0.41529 to 0.41386, saving model to InceptionV3_model.h5\n",
      "Epoch 23/100\n",
      "30/30 [==============================] - 134s 4s/step - loss: 0.1706 - accuracy: 0.9430 - val_loss: 0.4159 - val_accuracy: 0.8656\n",
      "\n",
      "Epoch 00023: val_loss did not improve from 0.41386\n",
      "Epoch 24/100\n",
      "30/30 [==============================] - 139s 4s/step - loss: 0.1650 - accuracy: 0.9425 - val_loss: 0.4191 - val_accuracy: 0.8737\n",
      "\n",
      "Epoch 00024: val_loss did not improve from 0.41386\n",
      "Epoch 25/100\n",
      "30/30 [==============================] - 173s 6s/step - loss: 0.1463 - accuracy: 0.9521 - val_loss: 0.4189 - val_accuracy: 0.8758\n",
      "\n",
      "Epoch 00025: val_loss did not improve from 0.41386\n",
      "Epoch 26/100\n",
      "30/30 [==============================] - 143s 5s/step - loss: 0.1454 - accuracy: 0.9566 - val_loss: 0.4194 - val_accuracy: 0.8778\n",
      "\n",
      "Epoch 00026: val_loss did not improve from 0.41386\n",
      "Epoch 27/100\n",
      "30/30 [==============================] - 124s 4s/step - loss: 0.1560 - accuracy: 0.9440 - val_loss: 0.4182 - val_accuracy: 0.8717\n",
      "\n",
      "Epoch 00027: val_loss did not improve from 0.41386\n",
      "Epoch 28/100\n",
      "30/30 [==============================] - 136s 4s/step - loss: 0.1490 - accuracy: 0.9556 - val_loss: 0.4200 - val_accuracy: 0.8737\n",
      "\n",
      "Epoch 00028: val_loss did not improve from 0.41386\n",
      "Epoch 29/100\n",
      "30/30 [==============================] - 152s 5s/step - loss: 0.1530 - accuracy: 0.9511 - val_loss: 0.4195 - val_accuracy: 0.8778\n",
      "\n",
      "Epoch 00029: val_loss did not improve from 0.41386\n",
      "Epoch 30/100\n",
      "30/30 [==============================] - 156s 5s/step - loss: 0.1409 - accuracy: 0.9536 - val_loss: 0.4146 - val_accuracy: 0.8778\n",
      "\n",
      "Epoch 00030: val_loss did not improve from 0.41386\n",
      "Epoch 31/100\n",
      "30/30 [==============================] - 162s 5s/step - loss: 0.1541 - accuracy: 0.9536 - val_loss: 0.4196 - val_accuracy: 0.8737\n",
      "\n",
      "Epoch 00031: val_loss did not improve from 0.41386\n",
      "Epoch 32/100\n",
      "30/30 [==============================] - 162s 5s/step - loss: 0.1306 - accuracy: 0.9576 - val_loss: 0.4219 - val_accuracy: 0.8737\n",
      "\n",
      "Epoch 00032: val_loss did not improve from 0.41386\n",
      "Epoch 00032: early stopping\n"
     ]
    }
   ],
   "source": [
    "history = model.fit_generator(\n",
    "    train_generator, \n",
    "    steps_per_epoch = train_generator.n / BATCH_SIZE, \n",
    "    validation_data = validation_generator,\n",
    "    validation_steps = validation_generator.n / BATCH_SIZE,\n",
    "    epochs = 100,\n",
    "    callbacks=callbacks\n",
    ")"
   ]
  },
  {
   "cell_type": "markdown",
   "id": "34cf99a9",
   "metadata": {},
   "source": [
    "## Evaluation"
   ]
  },
  {
   "cell_type": "code",
   "execution_count": 10,
   "id": "e7cb59ed",
   "metadata": {},
   "outputs": [],
   "source": [
    "def plot_accuracy_loss(history):\n",
    "    \n",
    "    ### Plot the accuracy and the loss during the training of the nn.\n",
    "    fig = plt.figure(figsize=(10,5))\n",
    "\n",
    "    # Plot accuracy\n",
    "    plt.subplot(221)\n",
    "    plt.plot(history.history['accuracy'],'bo--', \n",
    "             label = \"Training Accuracy\")\n",
    "    plt.plot(history.history['val_accuracy'], 'ro--', \n",
    "             label = \"Validation Accuracy\")\n",
    "    plt.title(\"Training Accuracy vs Validation Accuracy\")\n",
    "    plt.ylabel(\"accuracy\")\n",
    "    plt.xlabel(\"epochs\")\n",
    "    plt.legend()\n",
    "\n",
    "    # Plot loss function\n",
    "    plt.subplot(222)\n",
    "    plt.plot(history.history['loss'],'bo--', \n",
    "             label = \"Training Loss\")\n",
    "    plt.plot(history.history['val_loss'], 'ro--', \n",
    "             label = \"Validation Loss\")\n",
    "    plt.title(\"Training Loss vs Validation Loss\")\n",
    "    plt.ylabel(\"loss\")\n",
    "    plt.xlabel(\"epochs\")\n",
    "\n",
    "    plt.legend()\n",
    "    plt.show()"
   ]
  },
  {
   "cell_type": "code",
   "execution_count": 11,
   "id": "d9c72318",
   "metadata": {},
   "outputs": [
    {
     "data": {
      "image/png": "[encoded data removed]",
      "text/plain": [
       "<Figure size 720x360 with 2 Axes>"
      ]
     },
     "metadata": {
      "needs_background": "light"
     },
     "output_type": "display_data"
    }
   ],
   "source": [
    "plot_accuracy_loss(history)"
   ]
  },
  {
   "cell_type": "markdown",
   "id": "ef4566f7",
   "metadata": {},
   "source": [
    "## Saving the Model"
   ]
  },
  {
   "cell_type": "code",
   "execution_count": 12,
   "id": "69bc0491",
   "metadata": {},
   "outputs": [],
   "source": [
    "model.save(path+'InceptionV3.h5')"
   ]
  }
 ],
 "metadata": {
  "kernelspec": {
   "display_name": "Anaconda (base)",
   "language": "python",
   "name": "anaconda-base"
  },
  "language_info": {
   "codemirror_mode": {
    "name": "ipython",
    "version": 3
   },
   "file_extension": ".py",
   "mimetype": "text/x-python",
   "name": "python",
   "nbconvert_exporter": "python",
   "pygments_lexer": "ipython3",
   "version": "3.8.8"
  }
 },
 "nbformat": 4,
 "nbformat_minor": 5
}
