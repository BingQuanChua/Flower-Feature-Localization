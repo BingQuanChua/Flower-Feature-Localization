{
 "cells": [
  {
   "cell_type": "markdown",
   "id": "5e6440a2",
   "metadata": {
    "id": "5e6440a2"
   },
   "source": [
    "# ResNet50\n",
    "This notebook will train the ResNet50 model"
   ]
  },
  {
   "cell_type": "code",
   "execution_count": 1,
   "id": "ZHmq4y1sEVGD",
   "metadata": {
    "colab": {
     "base_uri": "https://localhost:8080/"
    },
    "executionInfo": {
     "elapsed": 19979,
     "status": "ok",
     "timestamp": 1637248977904,
     "user": {
      "displayName": "KHAW WEN KANG",
      "photoUrl": "https://lh3.googleusercontent.com/a-/AOh14GioAzaivxRmZaCm1VR2KC_64EP3YR7AUaFj4N1Q=s64",
      "userId": "11037657625538682137"
     },
     "user_tz": -480
    },
    "id": "ZHmq4y1sEVGD",
    "outputId": "4f5340e0-9296-4ae8-d738-11d07586b5e6"
   },
   "outputs": [
    {
     "name": "stdout",
     "output_type": "stream",
     "text": [
      "Mounted at /content/drive\n"
     ]
    }
   ],
   "source": [
    "from google.colab import drive\n",
    "drive.mount('/content/drive')"
   ]
  },
  {
   "cell_type": "code",
   "execution_count": 2,
   "id": "EcVcwP2iE-Wk",
   "metadata": {
    "executionInfo": {
     "elapsed": 3,
     "status": "ok",
     "timestamp": 1637248977905,
     "user": {
      "displayName": "KHAW WEN KANG",
      "photoUrl": "https://lh3.googleusercontent.com/a-/AOh14GioAzaivxRmZaCm1VR2KC_64EP3YR7AUaFj4N1Q=s64",
      "userId": "11037657625538682137"
     },
     "user_tz": -480
    },
    "id": "EcVcwP2iE-Wk"
   },
   "outputs": [],
   "source": [
    "path = '/content/drive/Shareddrives/Visual Information Processing/'"
   ]
  },
  {
   "cell_type": "code",
   "execution_count": 3,
   "id": "38267a73",
   "metadata": {
    "executionInfo": {
     "elapsed": 3417,
     "status": "ok",
     "timestamp": 1637248981319,
     "user": {
      "displayName": "KHAW WEN KANG",
      "photoUrl": "https://lh3.googleusercontent.com/a-/AOh14GioAzaivxRmZaCm1VR2KC_64EP3YR7AUaFj4N1Q=s64",
      "userId": "11037657625538682137"
     },
     "user_tz": -480
    },
    "id": "38267a73"
   },
   "outputs": [],
   "source": [
    "import os\n",
    "import numpy as np\n",
    "import pandas as pd\n",
    "import matplotlib.pyplot as plt\n",
    "import matplotlib.image as mpimg\n",
    "import seaborn as sns\n",
    "import cv2\n",
    "from sklearn.model_selection import train_test_split\n",
    "import tensorflow as tf\n",
    "from tensorflow import keras \n",
    "import random\n",
    "from random import shuffle \n",
    "import collections\n",
    "import io\n",
    "import math"
   ]
  },
  {
   "cell_type": "code",
   "execution_count": 4,
   "id": "4MagPmOWI_g1",
   "metadata": {
    "colab": {
     "base_uri": "https://localhost:8080/"
    },
    "executionInfo": {
     "elapsed": 4008,
     "status": "ok",
     "timestamp": 1637248985320,
     "user": {
      "displayName": "KHAW WEN KANG",
      "photoUrl": "https://lh3.googleusercontent.com/a-/AOh14GioAzaivxRmZaCm1VR2KC_64EP3YR7AUaFj4N1Q=s64",
      "userId": "11037657625538682137"
     },
     "user_tz": -480
    },
    "id": "4MagPmOWI_g1",
    "outputId": "ef007db8-6f40-4518-bdb2-47e210f40fc1"
   },
   "outputs": [
    {
     "name": "stdout",
     "output_type": "stream",
     "text": [
      "Collecting Keras-Applications\n",
      "  Downloading Keras_Applications-1.0.8-py3-none-any.whl (50 kB)\n",
      "\u001b[?25l\r",
      "\u001b[K     |██████▌                         | 10 kB 28.0 MB/s eta 0:00:01\r",
      "\u001b[K     |█████████████                   | 20 kB 23.9 MB/s eta 0:00:01\r",
      "\u001b[K     |███████████████████▍            | 30 kB 11.5 MB/s eta 0:00:01\r",
      "\u001b[K     |█████████████████████████▉      | 40 kB 9.2 MB/s eta 0:00:01\r",
      "\u001b[K     |████████████████████████████████| 50 kB 3.1 MB/s \n",
      "\u001b[?25hRequirement already satisfied: h5py in /usr/local/lib/python3.7/dist-packages (from Keras-Applications) (3.1.0)\n",
      "Requirement already satisfied: numpy>=1.9.1 in /usr/local/lib/python3.7/dist-packages (from Keras-Applications) (1.19.5)\n",
      "Requirement already satisfied: cached-property in /usr/local/lib/python3.7/dist-packages (from h5py->Keras-Applications) (1.5.2)\n",
      "Installing collected packages: Keras-Applications\n",
      "Successfully installed Keras-Applications-1.0.8\n"
     ]
    }
   ],
   "source": [
    "!pip install Keras-Applications"
   ]
  },
  {
   "cell_type": "code",
   "execution_count": 5,
   "id": "45c6db92",
   "metadata": {
    "executionInfo": {
     "elapsed": 7,
     "status": "ok",
     "timestamp": 1637248985321,
     "user": {
      "displayName": "KHAW WEN KANG",
      "photoUrl": "https://lh3.googleusercontent.com/a-/AOh14GioAzaivxRmZaCm1VR2KC_64EP3YR7AUaFj4N1Q=s64",
      "userId": "11037657625538682137"
     },
     "user_tz": -480
    },
    "id": "45c6db92"
   },
   "outputs": [],
   "source": [
    "from keras.applications.resnet import ResNet50\n",
    "from keras.models import Sequential\n",
    "from keras.callbacks import EarlyStopping\n",
    "from keras.layers import Dropout, Input, Flatten, Dense, BatchNormalization\n",
    "from keras.preprocessing.image import ImageDataGenerator\n",
    "from keras.callbacks import EarlyStopping, ReduceLROnPlateau, ModelCheckpoint\n",
    "from tensorflow.keras.utils import to_categorical"
   ]
  },
  {
   "cell_type": "code",
   "execution_count": 6,
   "id": "99924537",
   "metadata": {
    "executionInfo": {
     "elapsed": 6,
     "status": "ok",
     "timestamp": 1637248985321,
     "user": {
      "displayName": "KHAW WEN KANG",
      "photoUrl": "https://lh3.googleusercontent.com/a-/AOh14GioAzaivxRmZaCm1VR2KC_64EP3YR7AUaFj4N1Q=s64",
      "userId": "11037657625538682137"
     },
     "user_tz": -480
    },
    "id": "99924537"
   },
   "outputs": [],
   "source": [
    "FLOWERS_DIR = path + 'Annotated-FlowerData-30'"
   ]
  },
  {
   "cell_type": "code",
   "execution_count": 7,
   "id": "b7d5cf66",
   "metadata": {
    "executionInfo": {
     "elapsed": 5,
     "status": "ok",
     "timestamp": 1637248985321,
     "user": {
      "displayName": "KHAW WEN KANG",
      "photoUrl": "https://lh3.googleusercontent.com/a-/AOh14GioAzaivxRmZaCm1VR2KC_64EP3YR7AUaFj4N1Q=s64",
      "userId": "11037657625538682137"
     },
     "user_tz": -480
    },
    "id": "b7d5cf66"
   },
   "outputs": [],
   "source": [
    "H, W = 224, 224\n",
    "BATCH_SIZE = 64\n",
    "EPOCHS = 100\n",
    "\n",
    "TRAIN_FRACTION = 80\n",
    "RANDOM_SEED = 2018"
   ]
  },
  {
   "cell_type": "code",
   "execution_count": 8,
   "id": "5ba98291",
   "metadata": {
    "colab": {
     "base_uri": "https://localhost:8080/"
    },
    "executionInfo": {
     "elapsed": 5875,
     "status": "ok",
     "timestamp": 1637248991193,
     "user": {
      "displayName": "KHAW WEN KANG",
      "photoUrl": "https://lh3.googleusercontent.com/a-/AOh14GioAzaivxRmZaCm1VR2KC_64EP3YR7AUaFj4N1Q=s64",
      "userId": "11037657625538682137"
     },
     "user_tz": -480
    },
    "id": "5ba98291",
    "outputId": "ad114a28-206a-4ee9-f222-8069016c04b8"
   },
   "outputs": [
    {
     "name": "stdout",
     "output_type": "stream",
     "text": [
      "Found 1982 images belonging to 30 classes.\n",
      "Found 491 images belonging to 30 classes.\n"
     ]
    }
   ],
   "source": [
    "train_datagen = ImageDataGenerator(\n",
    "    rescale=1./255,\n",
    "    shear_range=0.1,\n",
    "    zoom_range=0.1,\n",
    "    width_shift_range=0.1,\n",
    "    height_shift_range=0.1,\n",
    "    horizontal_flip=True,\n",
    "    vertical_flip=True,\n",
    "    validation_split=0.2\n",
    ")\n",
    "\n",
    "test_datagen = ImageDataGenerator(\n",
    "    rescale=1./255,\n",
    "    validation_split=0.2\n",
    ")\n",
    "\n",
    "train_generator = train_datagen.flow_from_directory(\n",
    "    FLOWERS_DIR,\n",
    "    target_size=(H, W),\n",
    "    batch_size=BATCH_SIZE,\n",
    "    class_mode='categorical',\n",
    "    subset='training',\n",
    "    seed=RANDOM_SEED\n",
    ")\n",
    "\n",
    "validation_generator = test_datagen.flow_from_directory(\n",
    "    FLOWERS_DIR,\n",
    "    target_size=(H, W),\n",
    "    batch_size=BATCH_SIZE,\n",
    "    class_mode='categorical',\n",
    "    subset='validation',\n",
    "    seed=RANDOM_SEED\n",
    ")"
   ]
  },
  {
   "cell_type": "markdown",
   "id": "a96378a3",
   "metadata": {
    "id": "a96378a3"
   },
   "source": [
    "## ResNet50"
   ]
  },
  {
   "cell_type": "code",
   "execution_count": 9,
   "id": "e6dc590b",
   "metadata": {
    "colab": {
     "base_uri": "https://localhost:8080/"
    },
    "executionInfo": {
     "elapsed": 9456,
     "status": "ok",
     "timestamp": 1637249000640,
     "user": {
      "displayName": "KHAW WEN KANG",
      "photoUrl": "https://lh3.googleusercontent.com/a-/AOh14GioAzaivxRmZaCm1VR2KC_64EP3YR7AUaFj4N1Q=s64",
      "userId": "11037657625538682137"
     },
     "user_tz": -480
    },
    "id": "e6dc590b",
    "outputId": "da33a501-f962-46c0-fd95-7e3df800aae3"
   },
   "outputs": [
    {
     "name": "stdout",
     "output_type": "stream",
     "text": [
      "Downloading data from https://storage.googleapis.com/tensorflow/keras-applications/resnet/resnet50_weights_tf_dim_ordering_tf_kernels_notop.h5\n",
      "94773248/94765736 [==============================] - 1s 0us/step\n",
      "94781440/94765736 [==============================] - 1s 0us/step\n",
      "Model: \"sequential\"\n",
      "_________________________________________________________________\n",
      " Layer (type)                Output Shape              Param #   \n",
      "=================================================================\n",
      " resnet50 (Functional)       (None, 2048)              23587712  \n",
      "                                                                 \n",
      " dense (Dense)               (None, 1024)              2098176   \n",
      "                                                                 \n",
      " dense_1 (Dense)             (None, 1024)              1049600   \n",
      "                                                                 \n",
      " dense_2 (Dense)             (None, 512)               524800    \n",
      "                                                                 \n",
      " dense_3 (Dense)             (None, 30)                15390     \n",
      "                                                                 \n",
      "=================================================================\n",
      "Total params: 27,275,678\n",
      "Trainable params: 3,687,966\n",
      "Non-trainable params: 23,587,712\n",
      "_________________________________________________________________\n"
     ]
    }
   ],
   "source": [
    "base_model = ResNet50(\n",
    "    input_shape=(H, W, 3), \n",
    "    weights='imagenet',\n",
    "    include_top=False, \n",
    "    pooling='avg',\n",
    ")\n",
    "\n",
    "base_model.trainable = False\n",
    "\n",
    "output_class = 30\n",
    "\n",
    "model = Sequential([\n",
    "    base_model,\n",
    "    Dense(1024, activation='relu'),\n",
    "    Dense(1024, activation='relu'),\n",
    "    Dense(512, activation='relu'),\n",
    "    Dense(30, activation='softmax')\n",
    "])\n",
    "\n",
    "model.summary()"
   ]
  },
  {
   "cell_type": "code",
   "execution_count": 10,
   "id": "32c2f978",
   "metadata": {
    "executionInfo": {
     "elapsed": 12,
     "status": "ok",
     "timestamp": 1637249000641,
     "user": {
      "displayName": "KHAW WEN KANG",
      "photoUrl": "https://lh3.googleusercontent.com/a-/AOh14GioAzaivxRmZaCm1VR2KC_64EP3YR7AUaFj4N1Q=s64",
      "userId": "11037657625538682137"
     },
     "user_tz": -480
    },
    "id": "32c2f978"
   },
   "outputs": [],
   "source": [
    "model.compile(\n",
    "    optimizer='adam',\n",
    "    loss='categorical_crossentropy', \n",
    "    metrics=['accuracy']\n",
    ")"
   ]
  },
  {
   "cell_type": "code",
   "execution_count": 11,
   "id": "e79c89d0",
   "metadata": {
    "executionInfo": {
     "elapsed": 12,
     "status": "ok",
     "timestamp": 1637249000641,
     "user": {
      "displayName": "KHAW WEN KANG",
      "photoUrl": "https://lh3.googleusercontent.com/a-/AOh14GioAzaivxRmZaCm1VR2KC_64EP3YR7AUaFj4N1Q=s64",
      "userId": "11037657625538682137"
     },
     "user_tz": -480
    },
    "id": "e79c89d0"
   },
   "outputs": [],
   "source": [
    "callbacks = [\n",
    "    EarlyStopping(patience=10, verbose=1),\n",
    "    ReduceLROnPlateau(factor=0.1, patience=3, min_lr=0.00001, verbose=1),\n",
    "    ModelCheckpoint(path + 'ResNet50_checkpoint.h5', verbose=1, save_best_only=True, save_weights_only=True)\n",
    "]"
   ]
  },
  {
   "cell_type": "code",
   "execution_count": 12,
   "id": "1e61d87d",
   "metadata": {
    "colab": {
     "base_uri": "https://localhost:8080/"
    },
    "executionInfo": {
     "elapsed": 1803134,
     "status": "ok",
     "timestamp": 1637250803764,
     "user": {
      "displayName": "KHAW WEN KANG",
      "photoUrl": "https://lh3.googleusercontent.com/a-/AOh14GioAzaivxRmZaCm1VR2KC_64EP3YR7AUaFj4N1Q=s64",
      "userId": "11037657625538682137"
     },
     "user_tz": -480
    },
    "id": "1e61d87d",
    "outputId": "8214e0f1-4037-4b7f-ee48-47eb4b9fd0b0",
    "scrolled": false
   },
   "outputs": [
    {
     "name": "stderr",
     "output_type": "stream",
     "text": [
      "/usr/local/lib/python3.7/dist-packages/ipykernel_launcher.py:7: UserWarning: `Model.fit_generator` is deprecated and will be removed in a future version. Please use `Model.fit`, which supports generators.\n",
      "  import sys\n"
     ]
    },
    {
     "name": "stdout",
     "output_type": "stream",
     "text": [
      "Epoch 1/100\n",
      "31/30 [==============================] - ETA: 0s - loss: 3.4673 - accuracy: 0.0333 \n",
      "Epoch 00001: val_loss improved from inf to 3.38028, saving model to /content/drive/Shareddrives/Visual Information Processing/ResNet50_model.h5\n",
      "30/30 [==============================] - 782s 24s/step - loss: 3.4673 - accuracy: 0.0333 - val_loss: 3.3803 - val_accuracy: 0.0530 - lr: 0.0010\n",
      "Epoch 2/100\n",
      "31/30 [==============================] - ETA: 0s - loss: 3.3455 - accuracy: 0.0419\n",
      "Epoch 00002: val_loss improved from 3.38028 to 3.32337, saving model to /content/drive/Shareddrives/Visual Information Processing/ResNet50_model.h5\n",
      "30/30 [==============================] - 44s 1s/step - loss: 3.3455 - accuracy: 0.0419 - val_loss: 3.3234 - val_accuracy: 0.0489 - lr: 0.0010\n",
      "Epoch 3/100\n",
      "31/30 [==============================] - ETA: 0s - loss: 3.2964 - accuracy: 0.0540\n",
      "Epoch 00003: val_loss improved from 3.32337 to 3.28544, saving model to /content/drive/Shareddrives/Visual Information Processing/ResNet50_model.h5\n",
      "30/30 [==============================] - 44s 1s/step - loss: 3.2964 - accuracy: 0.0540 - val_loss: 3.2854 - val_accuracy: 0.0530 - lr: 0.0010\n",
      "Epoch 4/100\n",
      "31/30 [==============================] - ETA: 0s - loss: 3.2771 - accuracy: 0.0499\n",
      "Epoch 00004: val_loss improved from 3.28544 to 3.25944, saving model to /content/drive/Shareddrives/Visual Information Processing/ResNet50_model.h5\n",
      "30/30 [==============================] - 44s 1s/step - loss: 3.2771 - accuracy: 0.0499 - val_loss: 3.2594 - val_accuracy: 0.0733 - lr: 0.0010\n",
      "Epoch 5/100\n",
      "31/30 [==============================] - ETA: 0s - loss: 3.2622 - accuracy: 0.0646\n",
      "Epoch 00005: val_loss improved from 3.25944 to 3.24551, saving model to /content/drive/Shareddrives/Visual Information Processing/ResNet50_model.h5\n",
      "30/30 [==============================] - 45s 1s/step - loss: 3.2622 - accuracy: 0.0646 - val_loss: 3.2455 - val_accuracy: 0.0835 - lr: 0.0010\n",
      "Epoch 6/100\n",
      "31/30 [==============================] - ETA: 0s - loss: 3.2332 - accuracy: 0.0817\n",
      "Epoch 00006: val_loss improved from 3.24551 to 3.21466, saving model to /content/drive/Shareddrives/Visual Information Processing/ResNet50_model.h5\n",
      "30/30 [==============================] - 45s 1s/step - loss: 3.2332 - accuracy: 0.0817 - val_loss: 3.2147 - val_accuracy: 0.1018 - lr: 0.0010\n",
      "Epoch 7/100\n",
      "31/30 [==============================] - ETA: 0s - loss: 3.2105 - accuracy: 0.0817\n",
      "Epoch 00007: val_loss improved from 3.21466 to 3.20675, saving model to /content/drive/Shareddrives/Visual Information Processing/ResNet50_model.h5\n",
      "30/30 [==============================] - 44s 1s/step - loss: 3.2105 - accuracy: 0.0817 - val_loss: 3.2067 - val_accuracy: 0.0855 - lr: 0.0010\n",
      "Epoch 8/100\n",
      "31/30 [==============================] - ETA: 0s - loss: 3.1787 - accuracy: 0.0969\n",
      "Epoch 00008: val_loss improved from 3.20675 to 3.18653, saving model to /content/drive/Shareddrives/Visual Information Processing/ResNet50_model.h5\n",
      "30/30 [==============================] - 44s 1s/step - loss: 3.1787 - accuracy: 0.0969 - val_loss: 3.1865 - val_accuracy: 0.1039 - lr: 0.0010\n",
      "Epoch 9/100\n",
      "31/30 [==============================] - ETA: 0s - loss: 3.1633 - accuracy: 0.0908\n",
      "Epoch 00009: val_loss improved from 3.18653 to 3.17770, saving model to /content/drive/Shareddrives/Visual Information Processing/ResNet50_model.h5\n",
      "30/30 [==============================] - 45s 1s/step - loss: 3.1633 - accuracy: 0.0908 - val_loss: 3.1777 - val_accuracy: 0.1141 - lr: 0.0010\n",
      "Epoch 10/100\n",
      "31/30 [==============================] - ETA: 0s - loss: 3.1400 - accuracy: 0.1044\n",
      "Epoch 00010: val_loss did not improve from 3.17770\n",
      "30/30 [==============================] - 43s 1s/step - loss: 3.1400 - accuracy: 0.1044 - val_loss: 3.1999 - val_accuracy: 0.1018 - lr: 0.0010\n",
      "Epoch 11/100\n",
      "31/30 [==============================] - ETA: 0s - loss: 3.1678 - accuracy: 0.0999\n",
      "Epoch 00011: val_loss did not improve from 3.17770\n",
      "30/30 [==============================] - 42s 1s/step - loss: 3.1678 - accuracy: 0.0999 - val_loss: 3.1800 - val_accuracy: 0.0713 - lr: 0.0010\n",
      "Epoch 12/100\n",
      "31/30 [==============================] - ETA: 0s - loss: 3.1335 - accuracy: 0.1085\n",
      "Epoch 00012: ReduceLROnPlateau reducing learning rate to 0.00010000000474974513.\n",
      "\n",
      "Epoch 00012: val_loss did not improve from 3.17770\n",
      "30/30 [==============================] - 42s 1s/step - loss: 3.1335 - accuracy: 0.1085 - val_loss: 3.2152 - val_accuracy: 0.0835 - lr: 0.0010\n",
      "Epoch 13/100\n",
      "31/30 [==============================] - ETA: 0s - loss: 3.0908 - accuracy: 0.1140\n",
      "Epoch 00013: val_loss did not improve from 3.17770\n",
      "30/30 [==============================] - 42s 1s/step - loss: 3.0908 - accuracy: 0.1140 - val_loss: 3.1945 - val_accuracy: 0.0876 - lr: 1.0000e-04\n",
      "Epoch 14/100\n",
      "31/30 [==============================] - ETA: 0s - loss: 3.0712 - accuracy: 0.1130\n",
      "Epoch 00014: val_loss improved from 3.17770 to 3.14357, saving model to /content/drive/Shareddrives/Visual Information Processing/ResNet50_model.h5\n",
      "30/30 [==============================] - 45s 1s/step - loss: 3.0712 - accuracy: 0.1130 - val_loss: 3.1436 - val_accuracy: 0.1141 - lr: 1.0000e-04\n",
      "Epoch 15/100\n",
      "31/30 [==============================] - ETA: 0s - loss: 3.0643 - accuracy: 0.1211\n",
      "Epoch 00015: val_loss did not improve from 3.14357\n",
      "30/30 [==============================] - 43s 1s/step - loss: 3.0643 - accuracy: 0.1211 - val_loss: 3.1611 - val_accuracy: 0.1120 - lr: 1.0000e-04\n",
      "Epoch 16/100\n",
      "31/30 [==============================] - ETA: 0s - loss: 3.0612 - accuracy: 0.1276\n",
      "Epoch 00016: val_loss did not improve from 3.14357\n",
      "30/30 [==============================] - 43s 1s/step - loss: 3.0612 - accuracy: 0.1276 - val_loss: 3.1680 - val_accuracy: 0.1100 - lr: 1.0000e-04\n",
      "Epoch 17/100\n",
      "31/30 [==============================] - ETA: 0s - loss: 3.0504 - accuracy: 0.1196\n",
      "Epoch 00017: ReduceLROnPlateau reducing learning rate to 1.0000000474974514e-05.\n",
      "\n",
      "Epoch 00017: val_loss did not improve from 3.14357\n",
      "30/30 [==============================] - 44s 1s/step - loss: 3.0504 - accuracy: 0.1196 - val_loss: 3.1548 - val_accuracy: 0.0978 - lr: 1.0000e-04\n",
      "Epoch 18/100\n",
      "31/30 [==============================] - ETA: 0s - loss: 3.0417 - accuracy: 0.1302\n",
      "Epoch 00018: val_loss did not improve from 3.14357\n",
      "30/30 [==============================] - 43s 1s/step - loss: 3.0417 - accuracy: 0.1302 - val_loss: 3.1610 - val_accuracy: 0.1059 - lr: 1.0000e-05\n",
      "Epoch 19/100\n",
      "31/30 [==============================] - ETA: 0s - loss: 3.0541 - accuracy: 0.1186\n",
      "Epoch 00019: val_loss did not improve from 3.14357\n",
      "30/30 [==============================] - 43s 1s/step - loss: 3.0541 - accuracy: 0.1186 - val_loss: 3.1630 - val_accuracy: 0.1100 - lr: 1.0000e-05\n",
      "Epoch 20/100\n",
      "31/30 [==============================] - ETA: 0s - loss: 3.0438 - accuracy: 0.1347\n",
      "Epoch 00020: ReduceLROnPlateau reducing learning rate to 1e-05.\n",
      "\n",
      "Epoch 00020: val_loss did not improve from 3.14357\n",
      "30/30 [==============================] - 43s 1s/step - loss: 3.0438 - accuracy: 0.1347 - val_loss: 3.1570 - val_accuracy: 0.1120 - lr: 1.0000e-05\n",
      "Epoch 21/100\n",
      "31/30 [==============================] - ETA: 0s - loss: 3.0315 - accuracy: 0.1282\n",
      "Epoch 00021: val_loss did not improve from 3.14357\n",
      "30/30 [==============================] - 43s 1s/step - loss: 3.0315 - accuracy: 0.1282 - val_loss: 3.1598 - val_accuracy: 0.1120 - lr: 1.0000e-05\n",
      "Epoch 22/100\n",
      "31/30 [==============================] - ETA: 0s - loss: 3.0393 - accuracy: 0.1251\n",
      "Epoch 00022: val_loss did not improve from 3.14357\n",
      "30/30 [==============================] - 43s 1s/step - loss: 3.0393 - accuracy: 0.1251 - val_loss: 3.1603 - val_accuracy: 0.1100 - lr: 1.0000e-05\n",
      "Epoch 23/100\n",
      "31/30 [==============================] - ETA: 0s - loss: 3.0422 - accuracy: 0.1327\n",
      "Epoch 00023: val_loss did not improve from 3.14357\n",
      "30/30 [==============================] - 43s 1s/step - loss: 3.0422 - accuracy: 0.1327 - val_loss: 3.1579 - val_accuracy: 0.1141 - lr: 1.0000e-05\n",
      "Epoch 24/100\n",
      "31/30 [==============================] - ETA: 0s - loss: 3.0487 - accuracy: 0.1292\n",
      "Epoch 00024: val_loss did not improve from 3.14357\n",
      "30/30 [==============================] - 42s 1s/step - loss: 3.0487 - accuracy: 0.1292 - val_loss: 3.1637 - val_accuracy: 0.1100 - lr: 1.0000e-05\n",
      "Epoch 00024: early stopping\n"
     ]
    }
   ],
   "source": [
    "history = model.fit_generator(\n",
    "    train_generator, \n",
    "    steps_per_epoch = train_generator.n / BATCH_SIZE, \n",
    "    validation_data = validation_generator,\n",
    "    validation_steps = validation_generator.n / BATCH_SIZE,\n",
    "    epochs = 100,\n",
    "    callbacks=callbacks\n",
    ")"
   ]
  },
  {
   "cell_type": "markdown",
   "id": "34cf99a9",
   "metadata": {
    "id": "34cf99a9"
   },
   "source": [
    "## Evaluation"
   ]
  },
  {
   "cell_type": "code",
   "execution_count": 14,
   "id": "e7cb59ed",
   "metadata": {
    "executionInfo": {
     "elapsed": 8,
     "status": "ok",
     "timestamp": 1637250804307,
     "user": {
      "displayName": "KHAW WEN KANG",
      "photoUrl": "https://lh3.googleusercontent.com/a-/AOh14GioAzaivxRmZaCm1VR2KC_64EP3YR7AUaFj4N1Q=s64",
      "userId": "11037657625538682137"
     },
     "user_tz": -480
    },
    "id": "e7cb59ed"
   },
   "outputs": [],
   "source": [
    "def plot_accuracy_loss(history):\n",
    "    \n",
    "    ### Plot the accuracy and the loss during the training of the nn.\n",
    "    fig = plt.figure(figsize=(10,5))\n",
    "\n",
    "    # Plot accuracy\n",
    "    plt.subplot(221)\n",
    "    plt.plot(history.history['accuracy'],'bo--', \n",
    "             label = \"Training Accuracy\")\n",
    "    plt.plot(history.history['val_accuracy'], 'ro--', \n",
    "             label = \"Validation Accuracy\")\n",
    "    plt.title(\"Training Accuracy vs Validation Accuracy\")\n",
    "    plt.ylabel(\"accuracy\")\n",
    "    plt.xlabel(\"epochs\")\n",
    "    plt.legend()\n",
    "\n",
    "    # Plot loss function\n",
    "    plt.subplot(222)\n",
    "    plt.plot(history.history['loss'],'bo--', \n",
    "             label = \"Training Loss\")\n",
    "    plt.plot(history.history['val_loss'], 'ro--', \n",
    "             label = \"Validation Loss\")\n",
    "    plt.title(\"Training Loss vs Validation Loss\")\n",
    "    plt.ylabel(\"loss\")\n",
    "    plt.xlabel(\"epochs\")\n",
    "\n",
    "    plt.legend()\n",
    "    plt.show()"
   ]
  },
  {
   "cell_type": "code",
   "execution_count": 15,
   "id": "d9c72318",
   "metadata": {
    "colab": {
     "base_uri": "https://localhost:8080/",
     "height": 201
    },
    "executionInfo": {
     "elapsed": 711,
     "status": "ok",
     "timestamp": 1637250805011,
     "user": {
      "displayName": "KHAW WEN KANG",
      "photoUrl": "https://lh3.googleusercontent.com/a-/AOh14GioAzaivxRmZaCm1VR2KC_64EP3YR7AUaFj4N1Q=s64",
      "userId": "11037657625538682137"
     },
     "user_tz": -480
    },
    "id": "d9c72318",
    "outputId": "609bb2ad-01b6-4c41-cd67-c1a1185a86ed"
   },
   "outputs": [
    {
     "data": {
      "image/png": "[encoded data removed]",
      "text/plain": [
       "<Figure size 720x360 with 2 Axes>"
      ]
     },
     "metadata": {
      "needs_background": "light"
     },
     "output_type": "display_data"
    }
   ],
   "source": [
    "plot_accuracy_loss(history)"
   ]
  },
  {
   "cell_type": "markdown",
   "id": "c419c13b",
   "metadata": {},
   "source": [
    "## Saving the Model"
   ]
  },
  {
   "cell_type": "code",
   "execution_count": 13,
   "id": "UZW6HFU9oiGR",
   "metadata": {
    "colab": {
     "base_uri": "https://localhost:8080/"
    },
    "executionInfo": {
     "elapsed": 560,
     "status": "ok",
     "timestamp": 1637250804306,
     "user": {
      "displayName": "KHAW WEN KANG",
      "photoUrl": "https://lh3.googleusercontent.com/a-/AOh14GioAzaivxRmZaCm1VR2KC_64EP3YR7AUaFj4N1Q=s64",
      "userId": "11037657625538682137"
     },
     "user_tz": -480
    },
    "id": "UZW6HFU9oiGR",
    "outputId": "f03a9149-9f1e-4248-a823-8584c786c9f1"
   },
   "outputs": [
    {
     "name": "stderr",
     "output_type": "stream",
     "text": [
      "/usr/local/lib/python3.7/dist-packages/keras/engine/functional.py:1410: CustomMaskWarning: Custom mask layers require a config and must override get_config. When loading, the custom mask layer must be passed to the custom_objects argument.\n",
      "  layer_config = serialize_layer_fn(layer)\n"
     ]
    }
   ],
   "source": [
    "model.save(path +'ResNet50.h5')"
   ]
  }
 ],
 "metadata": {
  "accelerator": "GPU",
  "colab": {
   "collapsed_sections": [],
   "name": "Flower Localization - ResNet50.ipynb",
   "provenance": []
  },
  "kernelspec": {
   "display_name": "Anaconda (base)",
   "language": "python",
   "name": "anaconda-base"
  },
  "language_info": {
   "codemirror_mode": {
    "name": "ipython",
    "version": 3
   },
   "file_extension": ".py",
   "mimetype": "text/x-python",
   "name": "python",
   "nbconvert_exporter": "python",
   "pygments_lexer": "ipython3",
   "version": "3.8.8"
  }
 },
 "nbformat": 4,
 "nbformat_minor": 5
}
