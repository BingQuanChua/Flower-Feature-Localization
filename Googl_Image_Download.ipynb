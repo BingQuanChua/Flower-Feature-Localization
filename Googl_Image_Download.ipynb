{
 "cells": [
  {
   "cell_type": "markdown",
   "id": "0259e9e3",
   "metadata": {},
   "source": [
    "https://towardsdatascience.com/transfer-learning-using-mobilenet-and-keras-c75daf7ff299  \n",
    "https://github.com/hardikvasa/google-images-download"
   ]
  },
  {
   "cell_type": "code",
   "execution_count": 3,
   "id": "43461d3a",
   "metadata": {},
   "outputs": [],
   "source": [
    "# !pip install google_images_download\n",
    "from google_images_download import google_images_download"
   ]
  },
  {
   "cell_type": "code",
   "execution_count": 2,
   "id": "939f1c5c",
   "metadata": {},
   "outputs": [
    {
     "name": "stdout",
     "output_type": "stream",
     "text": [
      "\n",
      "Item no.: 1 --> Item name = blue tit\n",
      "Evaluating...\n",
      "Starting Download...\n",
      "\n",
      "\n",
      "Unfortunately all 100 could not be downloaded because some images were not downloadable. 0 is all we got for this search filter!\n",
      "\n",
      "Errors: 0\n",
      "\n",
      "\n",
      "Item no.: 1 --> Item name = cassava\n",
      "Evaluating...\n",
      "Starting Download...\n",
      "\n",
      "\n",
      "Unfortunately all 100 could not be downloaded because some images were not downloadable. 0 is all we got for this search filter!\n",
      "\n",
      "Errors: 0\n",
      "\n"
     ]
    }
   ],
   "source": [
    "response = google_images_download.googleimagesdownload()\n",
    "arguments = {\"keywords\":\"blue tit\",\"limit\":100,\"print_urls\":False,\"format\":\"jpg\", \"size\":\">400*300\"}\n",
    "paths = response.download(arguments)\n",
    "arguments = {\"keywords\":\"crow\",\"limit\":100,\"print_urls\":False, \"format\":\"jpg\", \"size\":\">400*300\"}\n",
    "paths = response.download(arguments)"
   ]
  }
 ],
 "metadata": {
  "kernelspec": {
   "display_name": "Anaconda (base)",
   "language": "python",
   "name": "anaconda-base"
  },
  "language_info": {
   "codemirror_mode": {
    "name": "ipython",
    "version": 3
   },
   "file_extension": ".py",
   "mimetype": "text/x-python",
   "name": "python",
   "nbconvert_exporter": "python",
   "pygments_lexer": "ipython3",
   "version": "3.8.8"
  }
 },
 "nbformat": 4,
 "nbformat_minor": 5
}
