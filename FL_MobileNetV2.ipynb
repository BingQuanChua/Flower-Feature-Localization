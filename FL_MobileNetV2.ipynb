{
 "cells": [
  {
   "cell_type": "markdown",
   "id": "a0c4fe9d",
   "metadata": {},
   "source": [
    "# MobileNetV2\n",
    "\n",
    "MobileNet is a type of convolutional neural network designed to be lighter in terms of architecture. MobileNetV2 is only 53 layers deep. \n",
    "\n",
    "This notebook will train our MobileNetV2 model."
   ]
  },
  {
   "cell_type": "code",
   "execution_count": 1,
   "id": "4205277f",
   "metadata": {},
   "outputs": [],
   "source": [
    "import os\n",
    "import numpy as np\n",
    "import pandas as pd\n",
    "import matplotlib.pyplot as plt\n",
    "import matplotlib.image as mpimg\n",
    "import seaborn as sns\n",
    "import cv2\n",
    "from sklearn.model_selection import train_test_split\n",
    "import random\n",
    "from random import shuffle \n",
    "import collections\n",
    "import io\n",
    "import math\n",
    "\n",
    "import tensorflow as tf\n",
    "from tensorflow import keras "
   ]
  },
  {
   "cell_type": "code",
   "execution_count": 2,
   "id": "90e9157a",
   "metadata": {},
   "outputs": [],
   "source": [
    "from keras.applications.mobilenet import MobileNet\n",
    "from keras.applications.mobilenet_v2 import MobileNetV2\n",
    "from keras.applications.resnet import ResNet50\n",
    "from keras.applications.inception_v3 import InceptionV3\n",
    "\n",
    "from keras.models import Sequential, Model\n",
    "from keras.callbacks import EarlyStopping\n",
    "from keras.layers import Dropout, Input, Flatten, Dense, BatchNormalization\n",
    "from keras.preprocessing import image\n",
    "from keras.preprocessing.image import ImageDataGenerator\n",
    "from keras.callbacks import EarlyStopping, ReduceLROnPlateau, ModelCheckpoint\n",
    "from tensorflow.keras.utils import to_categorical"
   ]
  },
  {
   "cell_type": "markdown",
   "id": "f0ffe377",
   "metadata": {},
   "source": [
    "## Data Preparation"
   ]
  },
  {
   "cell_type": "code",
   "execution_count": 3,
   "id": "971031e2",
   "metadata": {},
   "outputs": [],
   "source": [
    "FLOWERS_DIR ='dataset/Annotated-FlowerData-30'\n",
    "# FLOWERS_DIR ='/content/drive/Shareddrives/Visual Information Processing/FlowerData-30'"
   ]
  },
  {
   "cell_type": "code",
   "execution_count": 4,
   "id": "d2837ed7",
   "metadata": {},
   "outputs": [],
   "source": [
    "H, W = 224, 224\n",
    "BATCH_SIZE = 64\n",
    "EPOCHS = 100\n",
    "\n",
    "TRAIN_FRACTION = 80\n",
    "RANDOM_SEED = 2018"
   ]
  },
  {
   "cell_type": "code",
   "execution_count": 5,
   "id": "045ca1a7",
   "metadata": {},
   "outputs": [
    {
     "name": "stdout",
     "output_type": "stream",
     "text": [
      "Found 1982 images belonging to 30 classes.\n",
      "Found 491 images belonging to 30 classes.\n"
     ]
    }
   ],
   "source": [
    "train_datagen = ImageDataGenerator(\n",
    "    rescale=1./255,\n",
    "    shear_range=0.1,\n",
    "    zoom_range=0.1,\n",
    "    width_shift_range=0.1,\n",
    "    height_shift_range=0.1,\n",
    "    horizontal_flip=True,\n",
    "    vertical_flip=True,\n",
    "    validation_split=0.2\n",
    ")\n",
    "\n",
    "test_datagen = ImageDataGenerator(\n",
    "    rescale=1./255,\n",
    "    validation_split=0.2\n",
    ")\n",
    "\n",
    "train_generator = train_datagen.flow_from_directory(\n",
    "    FLOWERS_DIR,\n",
    "    target_size=(H, W),\n",
    "    batch_size=BATCH_SIZE,\n",
    "    class_mode='categorical',\n",
    "    subset='training',\n",
    "    seed=RANDOM_SEED\n",
    ")\n",
    "\n",
    "validation_generator = test_datagen.flow_from_directory(\n",
    "    FLOWERS_DIR,\n",
    "    target_size=(H, W),\n",
    "    batch_size=BATCH_SIZE,\n",
    "    class_mode='categorical',\n",
    "    subset='validation',\n",
    "    seed=RANDOM_SEED\n",
    ")"
   ]
  },
  {
   "cell_type": "code",
   "execution_count": 6,
   "id": "31e21275",
   "metadata": {},
   "outputs": [
    {
     "data": {
      "text/plain": [
       "((64, 224, 224, 3), (64, 30))"
      ]
     },
     "execution_count": 6,
     "metadata": {},
     "output_type": "execute_result"
    }
   ],
   "source": [
    "for image_batch, label_batch in train_generator:\n",
    "    break\n",
    "image_batch.shape, label_batch.shape"
   ]
  },
  {
   "cell_type": "code",
   "execution_count": 7,
   "id": "d414d083",
   "metadata": {},
   "outputs": [
    {
     "name": "stdout",
     "output_type": "stream",
     "text": [
      "{'Artichoke': 0, 'Azalea': 1, 'Bearded Iris': 2, 'Bird of Paradise': 3, 'Bluebell': 4, 'Bromelia': 5, 'Buttecup': 6, 'Camellia': 7, 'Canna Lily': 8, 'Colts_Foot': 9, 'Columbine': 10, 'Cowslip': 11, 'Crocus': 12, 'Daffodil': 13, 'Daisy': 14, 'Dandelion': 15, 'Fritillary': 16, 'LilyValley': 17, 'Mexican Petunia': 18, 'Pansy': 19, 'Peruvian Lily': 20, 'Poinsettia': 21, 'Purple Coneflower': 22, 'Snapdragon': 23, 'Snowdrop': 24, 'Sunflower': 25, 'Sweet William': 26, 'Tigerlily': 27, 'Tulip': 28, 'Windflower': 29}\n"
     ]
    }
   ],
   "source": [
    "print(train_generator.class_indices)"
   ]
  },
  {
   "cell_type": "code",
   "execution_count": 8,
   "id": "f91bf3d4",
   "metadata": {},
   "outputs": [
    {
     "name": "stdout",
     "output_type": "stream",
     "text": [
      "done!\n"
     ]
    }
   ],
   "source": [
    "# saving labels to txt file\n",
    "labels = '\\n'.join(sorted(train_generator.class_indices.keys()))\n",
    "\n",
    "with open('labels.txt', 'w') as f:\n",
    "    f.write(labels)\n",
    "    \n",
    "print('done!')"
   ]
  },
  {
   "cell_type": "code",
   "execution_count": 9,
   "id": "88b56d74",
   "metadata": {},
   "outputs": [],
   "source": [
    "save_path = 'labels.txt'\n",
    "label = np.array(open(save_path).read().splitlines())"
   ]
  },
  {
   "cell_type": "markdown",
   "id": "220e43bc",
   "metadata": {},
   "source": [
    "## Building the Model \n",
    "\n",
    "We implemented transfer learning by loading a pretrained MobileNetV2 (weights learned from the public ImageNet database). Several dense layer was added to the end of the model to make it classify our 30 flower classes."
   ]
  },
  {
   "cell_type": "code",
   "execution_count": 10,
   "id": "2342598d",
   "metadata": {
    "scrolled": true
   },
   "outputs": [],
   "source": [
    "base_model = MobileNetV2(\n",
    "    input_shape=(H, W, 3), \n",
    "    weights='imagenet',\n",
    "    include_top=False, \n",
    "    pooling='avg',\n",
    ")\n",
    "\n",
    "# base_model.summary()"
   ]
  },
  {
   "cell_type": "code",
   "execution_count": 11,
   "id": "b0386cf2",
   "metadata": {},
   "outputs": [
    {
     "name": "stdout",
     "output_type": "stream",
     "text": [
      "Model: \"sequential\"\n",
      "_________________________________________________________________\n",
      "Layer (type)                 Output Shape              Param #   \n",
      "=================================================================\n",
      "mobilenetv2_1.00_224 (Functi (None, 1280)              2257984   \n",
      "_________________________________________________________________\n",
      "dense (Dense)                (None, 1024)              1311744   \n",
      "_________________________________________________________________\n",
      "dense_1 (Dense)              (None, 1024)              1049600   \n",
      "_________________________________________________________________\n",
      "dense_2 (Dense)              (None, 512)               524800    \n",
      "_________________________________________________________________\n",
      "dense_3 (Dense)              (None, 30)                15390     \n",
      "=================================================================\n",
      "Total params: 5,159,518\n",
      "Trainable params: 2,901,534\n",
      "Non-trainable params: 2,257,984\n",
      "_________________________________________________________________\n"
     ]
    }
   ],
   "source": [
    "base_model.trainable = False\n",
    "\n",
    "output_class = 30\n",
    "\n",
    "model = Sequential([\n",
    "    base_model,\n",
    "    Dense(1024, activation='relu'),\n",
    "    Dense(1024, activation='relu'),\n",
    "    Dense(512, activation='relu'),\n",
    "    Dense(30, activation='softmax')\n",
    "])\n",
    "\n",
    "model.summary()"
   ]
  },
  {
   "cell_type": "code",
   "execution_count": 12,
   "id": "b2cd19af",
   "metadata": {},
   "outputs": [],
   "source": [
    "model.compile(\n",
    "    optimizer='adam',\n",
    "    loss='categorical_crossentropy', \n",
    "    metrics=['accuracy']\n",
    ")"
   ]
  },
  {
   "cell_type": "code",
   "execution_count": 13,
   "id": "041a3a32",
   "metadata": {},
   "outputs": [],
   "source": [
    "callbacks = [\n",
    "    EarlyStopping(patience=10, verbose=1),\n",
    "    ReduceLROnPlateau(factor=0.1, patience=3, min_lr=0.00001, verbose=1),\n",
    "    ModelCheckpoint('MobileNetV2_checkpoint.h5', verbose=1, save_best_only=True, save_weights_only=True)\n",
    "]"
   ]
  },
  {
   "cell_type": "markdown",
   "id": "29caf8c0",
   "metadata": {},
   "source": [
    "Fit model"
   ]
  },
  {
   "cell_type": "code",
   "execution_count": 15,
   "id": "3c5ee9fc",
   "metadata": {},
   "outputs": [],
   "source": [
    "import warnings\n",
    "warnings.filterwarnings(\"ignore\")"
   ]
  },
  {
   "cell_type": "code",
   "execution_count": 16,
   "id": "fc35582b",
   "metadata": {},
   "outputs": [
    {
     "name": "stdout",
     "output_type": "stream",
     "text": [
      "Epoch 1/100\n",
      "30/30 [==============================] - 111s 4s/step - loss: 0.7795 - accuracy: 0.7503 - val_loss: 0.6057 - val_accuracy: 0.8187\n",
      "\n",
      "Epoch 00001: val_loss improved from inf to 0.60572, saving model to MobileNetV2_checkpoint.h5\n",
      "Epoch 2/100\n",
      "30/30 [==============================] - 98s 3s/step - loss: 0.4259 - accuracy: 0.8648 - val_loss: 0.4872 - val_accuracy: 0.8473\n",
      "\n",
      "Epoch 00002: val_loss improved from 0.60572 to 0.48717, saving model to MobileNetV2_checkpoint.h5\n",
      "Epoch 3/100\n",
      "30/30 [==============================] - 98s 3s/step - loss: 0.3117 - accuracy: 0.8895 - val_loss: 0.3666 - val_accuracy: 0.8758\n",
      "\n",
      "Epoch 00003: val_loss improved from 0.48717 to 0.36665, saving model to MobileNetV2_checkpoint.h5\n",
      "Epoch 4/100\n",
      "30/30 [==============================] - 98s 3s/step - loss: 0.2220 - accuracy: 0.9294 - val_loss: 0.5993 - val_accuracy: 0.8391\n",
      "\n",
      "Epoch 00004: val_loss did not improve from 0.36665\n",
      "Epoch 5/100\n",
      "30/30 [==============================] - 97s 3s/step - loss: 0.2307 - accuracy: 0.9243 - val_loss: 0.4487 - val_accuracy: 0.8513\n",
      "\n",
      "Epoch 00005: val_loss did not improve from 0.36665\n",
      "Epoch 6/100\n",
      "30/30 [==============================] - 99s 3s/step - loss: 0.1605 - accuracy: 0.9455 - val_loss: 0.6020 - val_accuracy: 0.8371\n",
      "\n",
      "Epoch 00006: ReduceLROnPlateau reducing learning rate to 0.00010000000474974513.\n",
      "\n",
      "Epoch 00006: val_loss did not improve from 0.36665\n",
      "Epoch 7/100\n",
      "30/30 [==============================] - 98s 3s/step - loss: 0.1000 - accuracy: 0.9677 - val_loss: 0.4031 - val_accuracy: 0.8615\n",
      "\n",
      "Epoch 00007: val_loss did not improve from 0.36665\n",
      "Epoch 8/100\n",
      "30/30 [==============================] - 92s 3s/step - loss: 0.0547 - accuracy: 0.9844 - val_loss: 0.3571 - val_accuracy: 0.8798\n",
      "\n",
      "Epoch 00008: val_loss improved from 0.36665 to 0.35714, saving model to MobileNetV2_checkpoint.h5\n",
      "Epoch 9/100\n",
      "30/30 [==============================] - 91s 3s/step - loss: 0.0466 - accuracy: 0.9859 - val_loss: 0.3632 - val_accuracy: 0.8839\n",
      "\n",
      "Epoch 00009: val_loss did not improve from 0.35714\n",
      "Epoch 10/100\n",
      "30/30 [==============================] - 7044s 235s/step - loss: 0.0401 - accuracy: 0.9894 - val_loss: 0.3842 - val_accuracy: 0.8859\n",
      "\n",
      "Epoch 00010: val_loss did not improve from 0.35714\n",
      "Epoch 11/100\n",
      "30/30 [==============================] - 61s 2s/step - loss: 0.0460 - accuracy: 0.9859 - val_loss: 0.3848 - val_accuracy: 0.8859\n",
      "\n",
      "Epoch 00011: ReduceLROnPlateau reducing learning rate to 1.0000000474974514e-05.\n",
      "\n",
      "Epoch 00011: val_loss did not improve from 0.35714\n",
      "Epoch 12/100\n",
      "30/30 [==============================] - 93s 3s/step - loss: 0.0357 - accuracy: 0.9924 - val_loss: 0.3870 - val_accuracy: 0.8880\n",
      "\n",
      "Epoch 00012: val_loss did not improve from 0.35714\n",
      "Epoch 13/100\n",
      "30/30 [==============================] - 98s 3s/step - loss: 0.0318 - accuracy: 0.9894 - val_loss: 0.3859 - val_accuracy: 0.8859\n",
      "\n",
      "Epoch 00013: val_loss did not improve from 0.35714\n",
      "Epoch 14/100\n",
      "30/30 [==============================] - 99s 3s/step - loss: 0.0276 - accuracy: 0.9939 - val_loss: 0.3858 - val_accuracy: 0.8900\n",
      "\n",
      "Epoch 00014: ReduceLROnPlateau reducing learning rate to 1e-05.\n",
      "\n",
      "Epoch 00014: val_loss did not improve from 0.35714\n",
      "Epoch 15/100\n",
      "30/30 [==============================] - 99s 3s/step - loss: 0.0358 - accuracy: 0.9909 - val_loss: 0.3878 - val_accuracy: 0.8900\n",
      "\n",
      "Epoch 00015: val_loss did not improve from 0.35714\n",
      "Epoch 16/100\n",
      "30/30 [==============================] - 100s 3s/step - loss: 0.0310 - accuracy: 0.9899 - val_loss: 0.3849 - val_accuracy: 0.8921\n",
      "\n",
      "Epoch 00016: val_loss did not improve from 0.35714\n",
      "Epoch 17/100\n",
      "30/30 [==============================] - 102s 3s/step - loss: 0.0304 - accuracy: 0.9919 - val_loss: 0.3857 - val_accuracy: 0.8880\n",
      "\n",
      "Epoch 00017: val_loss did not improve from 0.35714\n",
      "Epoch 18/100\n",
      "30/30 [==============================] - 99s 3s/step - loss: 0.0300 - accuracy: 0.9924 - val_loss: 0.3875 - val_accuracy: 0.8880\n",
      "\n",
      "Epoch 00018: val_loss did not improve from 0.35714\n",
      "Epoch 00018: early stopping\n"
     ]
    }
   ],
   "source": [
    "history = model.fit_generator(\n",
    "    train_generator, \n",
    "    steps_per_epoch = train_generator.n / BATCH_SIZE, \n",
    "    validation_data = validation_generator,\n",
    "    validation_steps = validation_generator.n / BATCH_SIZE,\n",
    "    epochs = 100,\n",
    "    callbacks=callbacks\n",
    ")"
   ]
  },
  {
   "cell_type": "markdown",
   "id": "f9688c32",
   "metadata": {},
   "source": [
    "## Evaluation"
   ]
  },
  {
   "cell_type": "code",
   "execution_count": 17,
   "id": "58f3e8d3",
   "metadata": {},
   "outputs": [],
   "source": [
    "def plot_accuracy_loss(history):\n",
    "    \n",
    "    ### Plot the accuracy and the loss during the training of the nn.\n",
    "    fig = plt.figure(figsize=(10,5))\n",
    "\n",
    "    # Plot accuracy\n",
    "    plt.subplot(221)\n",
    "    plt.plot(history.history['accuracy'],'bo--', \n",
    "             label = \"Training Accuracy\")\n",
    "    plt.plot(history.history['val_accuracy'], 'ro--', \n",
    "             label = \"Validation Accuracy\")\n",
    "    plt.title(\"Training Accuracy vs Validation Accuracy\")\n",
    "    plt.ylabel(\"accuracy\")\n",
    "    plt.xlabel(\"epochs\")\n",
    "    plt.legend()\n",
    "\n",
    "    # Plot loss function\n",
    "    plt.subplot(222)\n",
    "    plt.plot(history.history['loss'],'bo--', \n",
    "             label = \"Training Loss\")\n",
    "    plt.plot(history.history['val_loss'], 'ro--', \n",
    "             label = \"Validation Loss\")\n",
    "    plt.title(\"Training Loss vs Validation Loss\")\n",
    "    plt.ylabel(\"loss\")\n",
    "    plt.xlabel(\"epochs\")\n",
    "\n",
    "    plt.legend()\n",
    "    plt.show()"
   ]
  },
  {
   "cell_type": "code",
   "execution_count": 18,
   "id": "0fa24964",
   "metadata": {},
   "outputs": [
    {
     "data": {
      "image/png": "[encoded data removed]",
      "text/plain": [
       "<Figure size 720x360 with 2 Axes>"
      ]
     },
     "metadata": {
      "needs_background": "light"
     },
     "output_type": "display_data"
    }
   ],
   "source": [
    "plot_accuracy_loss(history)"
   ]
  },
  {
   "cell_type": "markdown",
   "id": "69a9422b",
   "metadata": {},
   "source": [
    "## Saving the Model"
   ]
  },
  {
   "cell_type": "code",
   "execution_count": 19,
   "id": "c089c3ce",
   "metadata": {},
   "outputs": [],
   "source": [
    "model.save('MobileNetV2.h5')"
   ]
  }
 ],
 "metadata": {
  "kernelspec": {
   "display_name": "Anaconda (base)",
   "language": "python",
   "name": "anaconda-base"
  },
  "language_info": {
   "codemirror_mode": {
    "name": "ipython",
    "version": 3
   },
   "file_extension": ".py",
   "mimetype": "text/x-python",
   "name": "python",
   "nbconvert_exporter": "python",
   "pygments_lexer": "ipython3",
   "version": "3.8.8"
  }
 },
 "nbformat": 4,
 "nbformat_minor": 5
}
